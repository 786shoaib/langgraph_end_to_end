{
 "cells": [
  {
   "cell_type": "code",
   "execution_count": 14,
   "metadata": {},
   "outputs": [],
   "source": [
    "import os"
   ]
  },
  {
   "cell_type": "code",
   "execution_count": 15,
   "metadata": {},
   "outputs": [
    {
     "data": {
      "text/plain": [
       "True"
      ]
     },
     "execution_count": 15,
     "metadata": {},
     "output_type": "execute_result"
    }
   ],
   "source": [
    "from dotenv import load_dotenv\n",
    "load_dotenv()"
   ]
  },
  {
   "cell_type": "code",
   "execution_count": 16,
   "metadata": {},
   "outputs": [],
   "source": [
    "GOOGLE_API_KEY = os.getenv(\"GOOGLE_API_KEY\")\n",
    "os.environ['GOOGLE_API_KEY'] = GOOGLE_API_KEY"
   ]
  },
  {
   "cell_type": "markdown",
   "metadata": {},
   "source": [
    "### Simple Workflow with graph"
   ]
  },
  {
   "cell_type": "code",
   "execution_count": 17,
   "metadata": {},
   "outputs": [],
   "source": [
    "def function1(input1):\n",
    "    return input1 + \" from first function\"\n",
    "\n",
    "def function2(input2):\n",
    "    return input2 + \" Shoaib from second function\""
   ]
  },
  {
   "cell_type": "code",
   "execution_count": 18,
   "metadata": {},
   "outputs": [],
   "source": [
    "from langgraph.graph import Graph"
   ]
  },
  {
   "cell_type": "code",
   "execution_count": 19,
   "metadata": {},
   "outputs": [],
   "source": [
    "workflow1 = Graph()"
   ]
  },
  {
   "cell_type": "code",
   "execution_count": 20,
   "metadata": {},
   "outputs": [
    {
     "data": {
      "text/plain": [
       "<langgraph.graph.graph.Graph at 0x24c632f5960>"
      ]
     },
     "execution_count": 20,
     "metadata": {},
     "output_type": "execute_result"
    }
   ],
   "source": [
    "workflow1.add_node(\"function1\", function1)\n",
    "workflow1.add_node(\"function2\", function2)"
   ]
  },
  {
   "cell_type": "code",
   "execution_count": 21,
   "metadata": {},
   "outputs": [
    {
     "data": {
      "text/plain": [
       "<langgraph.graph.graph.Graph at 0x24c632f5960>"
      ]
     },
     "execution_count": 21,
     "metadata": {},
     "output_type": "execute_result"
    }
   ],
   "source": [
    "workflow1.set_entry_point(\"function1\")\n",
    "workflow1.set_finish_point(\"function2\")"
   ]
  },
  {
   "cell_type": "code",
   "execution_count": 22,
   "metadata": {},
   "outputs": [
    {
     "data": {
      "text/plain": [
       "<langgraph.graph.graph.Graph at 0x24c632f5960>"
      ]
     },
     "execution_count": 22,
     "metadata": {},
     "output_type": "execute_result"
    }
   ],
   "source": [
    "workflow1.add_edge(\"function1\", \"function2\")"
   ]
  },
  {
   "cell_type": "code",
   "execution_count": 23,
   "metadata": {},
   "outputs": [],
   "source": [
    "app1 = workflow1.compile()"
   ]
  },
  {
   "cell_type": "code",
   "execution_count": 24,
   "metadata": {},
   "outputs": [
    {
     "data": {
      "image/png": "[encoded data removed]",
      "text/plain": [
       "<IPython.core.display.Image object>"
      ]
     },
     "metadata": {},
     "output_type": "display_data"
    }
   ],
   "source": [
    "from IPython.display import display, Image\n",
    "try:\n",
    "    display(Image(app1.get_graph().draw_mermaid_png()))\n",
    "except Exception as e:\n",
    "    print(e)"
   ]
  },
  {
   "cell_type": "code",
   "execution_count": 25,
   "metadata": {},
   "outputs": [
    {
     "data": {
      "text/plain": [
       "'Hi I am Mohammad from first function Shoaib from second function'"
      ]
     },
     "execution_count": 25,
     "metadata": {},
     "output_type": "execute_result"
    }
   ],
   "source": [
    "app1.invoke(\"Hi I am Mohammad\")"
   ]
  },
  {
   "cell_type": "code",
   "execution_count": 26,
   "metadata": {},
   "outputs": [],
   "source": [
    "input = \"Hi I am Mohammad\""
   ]
  },
  {
   "cell_type": "code",
   "execution_count": 27,
   "metadata": {},
   "outputs": [
    {
     "name": "stdout",
     "output_type": "stream",
     "text": [
      "here is output from function1\n",
      "___________\n",
      "Hi I am Mohammad from first function\n",
      "\n",
      "\n",
      "here is output from function2\n",
      "___________\n",
      "Hi I am Mohammad from first function Shoaib from second function\n",
      "\n",
      "\n"
     ]
    }
   ],
   "source": [
    "for output in app1.stream(input):\n",
    "    for key,value in output.items():\n",
    "        print(f\"here is output from {key}\")\n",
    "        print(\"___________\")\n",
    "        print(value)\n",
    "        print(\"\\n\")"
   ]
  },
  {
   "cell_type": "markdown",
   "metadata": {},
   "source": [
    "### Workflow with LLM"
   ]
  },
  {
   "cell_type": "code",
   "execution_count": 28,
   "metadata": {},
   "outputs": [],
   "source": [
    "from langchain_google_genai import ChatGoogleGenerativeAI\n",
    "llm = ChatGoogleGenerativeAI(model = 'gemini-1.0-pro')"
   ]
  },
  {
   "cell_type": "code",
   "execution_count": 29,
   "metadata": {},
   "outputs": [
    {
     "data": {
      "text/plain": [
       "AIMessage(content='Hello there! How can I assist you today?', additional_kwargs={}, response_metadata={'prompt_feedback': {'block_reason': 0, 'safety_ratings': []}, 'finish_reason': 'STOP', 'safety_ratings': [{'category': 'HARM_CATEGORY_SEXUALLY_EXPLICIT', 'probability': 'NEGLIGIBLE', 'blocked': False}, {'category': 'HARM_CATEGORY_HATE_SPEECH', 'probability': 'NEGLIGIBLE', 'blocked': False}, {'category': 'HARM_CATEGORY_HARASSMENT', 'probability': 'NEGLIGIBLE', 'blocked': False}, {'category': 'HARM_CATEGORY_DANGEROUS_CONTENT', 'probability': 'NEGLIGIBLE', 'blocked': False}]}, id='run-1359db03-0b4b-4d69-8b65-f51ca309bcc9-0', usage_metadata={'input_tokens': 2, 'output_tokens': 10, 'total_tokens': 12, 'input_token_details': {'cache_read': 0}})"
      ]
     },
     "execution_count": 29,
     "metadata": {},
     "output_type": "execute_result"
    }
   ],
   "source": [
    "llm.invoke(\"Hi\")"
   ]
  },
  {
   "cell_type": "code",
   "execution_count": 30,
   "metadata": {},
   "outputs": [],
   "source": [
    "def function1(input):\n",
    "    llm = ChatGoogleGenerativeAI(model = 'gemini-1.0-pro')\n",
    "    response = llm.invoke(input).content\n",
    "    return response"
   ]
  },
  {
   "cell_type": "code",
   "execution_count": 31,
   "metadata": {},
   "outputs": [],
   "source": [
    "def function2(input):\n",
    "    upper_case = input.upper()\n",
    "    return upper_case"
   ]
  },
  {
   "cell_type": "code",
   "execution_count": 32,
   "metadata": {},
   "outputs": [],
   "source": [
    "from langgraph.graph import Graph\n",
    "workflow2 = Graph()"
   ]
  },
  {
   "cell_type": "code",
   "execution_count": 33,
   "metadata": {},
   "outputs": [
    {
     "data": {
      "text/plain": [
       "<langgraph.graph.graph.Graph at 0x24c63296920>"
      ]
     },
     "execution_count": 33,
     "metadata": {},
     "output_type": "execute_result"
    }
   ],
   "source": [
    "workflow2.add_node(\"LLM\",function1)\n",
    "workflow2.add_node(\"upper_string\",function2)"
   ]
  },
  {
   "cell_type": "code",
   "execution_count": 34,
   "metadata": {},
   "outputs": [
    {
     "data": {
      "text/plain": [
       "<langgraph.graph.graph.Graph at 0x24c63296920>"
      ]
     },
     "execution_count": 34,
     "metadata": {},
     "output_type": "execute_result"
    }
   ],
   "source": [
    "workflow2.add_edge(\"LLM\",\"upper_string\")"
   ]
  },
  {
   "cell_type": "code",
   "execution_count": 35,
   "metadata": {},
   "outputs": [
    {
     "data": {
      "text/plain": [
       "<langgraph.graph.graph.Graph at 0x24c63296920>"
      ]
     },
     "execution_count": 35,
     "metadata": {},
     "output_type": "execute_result"
    }
   ],
   "source": [
    "workflow2.set_entry_point(\"LLM\")\n",
    "workflow2.set_finish_point(\"upper_string\")"
   ]
  },
  {
   "cell_type": "code",
   "execution_count": 36,
   "metadata": {},
   "outputs": [],
   "source": [
    "app2 = workflow2.compile()"
   ]
  },
  {
   "cell_type": "code",
   "execution_count": 37,
   "metadata": {},
   "outputs": [
    {
     "data": {
      "image/png": "[encoded data removed]",
      "text/plain": [
       "<IPython.core.display.Image object>"
      ]
     },
     "metadata": {},
     "output_type": "display_data"
    }
   ],
   "source": [
    "from IPython.display import display, Image\n",
    "try:\n",
    "    display(Image(app2.get_graph().draw_mermaid_png()))\n",
    "except Exception as e:\n",
    "    print(e)"
   ]
  },
  {
   "cell_type": "code",
   "execution_count": 38,
   "metadata": {},
   "outputs": [
    {
     "data": {
      "text/plain": [
       "'**JAWAHARLAL NEHRU**\\n\\n**HOMETOWN:** ALLAHABAD, UTTAR PRADESH, INDIA'"
      ]
     },
     "execution_count": 38,
     "metadata": {},
     "output_type": "execute_result"
    }
   ],
   "source": [
    "app2.invoke(\"Who is the First prime minister of India and where was his/her hometown?\")"
   ]
  },
  {
   "cell_type": "code",
   "execution_count": 41,
   "metadata": {},
   "outputs": [],
   "source": [
    "input = \"Who is the First prime minister of India and where was his/her hometown?\""
   ]
  },
  {
   "cell_type": "code",
   "execution_count": 42,
   "metadata": {},
   "outputs": [
    {
     "name": "stdout",
     "output_type": "stream",
     "text": [
      "here is output from LLM\n",
      "___________\n",
      "**Jawaharlal Nehru**\n",
      "\n",
      "**Hometown:** Allahabad, Uttar Pradesh\n",
      "\n",
      "\n",
      "here is output from upper_string\n",
      "___________\n",
      "**JAWAHARLAL NEHRU**\n",
      "\n",
      "**HOMETOWN:** ALLAHABAD, UTTAR PRADESH\n",
      "\n",
      "\n"
     ]
    }
   ],
   "source": [
    "for output in app2.stream(input):\n",
    "    for key,value in output.items():\n",
    "        print(f\"here is output from {key}\")\n",
    "        print(\"___________\")\n",
    "        print(value)\n",
    "        print(\"\\n\")"
   ]
  },
  {
   "cell_type": "markdown",
   "metadata": {},
   "source": [
    "### Workflow with LLM and TokenCounter function"
   ]
  },
  {
   "cell_type": "code",
   "execution_count": 43,
   "metadata": {},
   "outputs": [],
   "source": [
    "def function3(input):\n",
    "    token = input.split()\n",
    "    token_number = len(token)\n",
    "    token_number = f\"total token count is  {token_number}\"\n",
    "    return token_number"
   ]
  },
  {
   "cell_type": "code",
   "execution_count": 44,
   "metadata": {},
   "outputs": [
    {
     "data": {
      "text/plain": [
       "<langgraph.graph.graph.Graph at 0x24c740a5600>"
      ]
     },
     "execution_count": 44,
     "metadata": {},
     "output_type": "execute_result"
    }
   ],
   "source": [
    "workflow3 = Graph()\n",
    "workflow3.add_node(\"LLM\",function1)\n",
    "workflow3.add_node(\"token_count\",function3)"
   ]
  },
  {
   "cell_type": "code",
   "execution_count": 45,
   "metadata": {},
   "outputs": [
    {
     "data": {
      "text/plain": [
       "<langgraph.graph.graph.Graph at 0x24c740a5600>"
      ]
     },
     "execution_count": 45,
     "metadata": {},
     "output_type": "execute_result"
    }
   ],
   "source": [
    "workflow3.add_edge(\"LLM\",\"token_count\")\n",
    "workflow3.set_entry_point(\"LLM\")\n",
    "workflow3.set_finish_point(\"token_count\")"
   ]
  },
  {
   "cell_type": "code",
   "execution_count": 46,
   "metadata": {},
   "outputs": [],
   "source": [
    "app3 = workflow3.compile()"
   ]
  },
  {
   "cell_type": "code",
   "execution_count": 47,
   "metadata": {},
   "outputs": [
    {
     "data": {
      "image/png": "[encoded data removed]",
      "text/plain": [
       "<IPython.core.display.Image object>"
      ]
     },
     "metadata": {},
     "output_type": "display_data"
    }
   ],
   "source": [
    "from IPython.display import display, Image\n",
    "try:\n",
    "    display(Image(app3.get_graph().draw_mermaid_png()))\n",
    "except Exception as e:\n",
    "    print(e)"
   ]
  },
  {
   "cell_type": "code",
   "execution_count": 48,
   "metadata": {},
   "outputs": [
    {
     "name": "stdout",
     "output_type": "stream",
     "text": [
      "here is output from LLM\n",
      "___________\n",
      "**RAG (Remote Access Gateway)**\n",
      "\n",
      "RAG is a network security device that allows secure remote access to an organization's internal network from untrusted networks, such as the internet. It provides a single point of entry for authorized users and devices, ensuring that only authenticated and authorized traffic can access the internal network.\n",
      "\n",
      "**Components of RAG:**\n",
      "\n",
      "* **Authentication Server:** Verifies user credentials before granting access.\n",
      "* **Authorization Server:** Determines what resources the user has access to based on their role and permissions.\n",
      "* **Network Access Control (NAC) Server:** Enforces security policies on devices attempting to connect.\n",
      "* **Firewall:** Blocks unauthorized traffic and enforces access rules.\n",
      "* **Virtual Private Network (VPN) Server:** Establishes secure encrypted tunnels for remote access.\n",
      "\n",
      "**Operation of RAG:**\n",
      "\n",
      "1. A remote user attempts to access the internal network.\n",
      "2. The RAG authenticates the user via the authentication server.\n",
      "3. The authorization server verifies the user's permissions and grants access to authorized resources.\n",
      "4. The NAC server checks the security posture of the user's device and ensures compliance with security policies.\n",
      "5. The firewall allows authorized traffic to pass through.\n",
      "6. The VPN server establishes a secure tunnel between the remote user and the internal network.\n",
      "7. The user can now securely access authorized resources within the internal network.\n",
      "\n",
      "**Benefits of RAG:**\n",
      "\n",
      "* **Secure Remote Access:** Provides a secure and controlled way for remote users to access internal resources.\n",
      "* **Centralized Control:** Simplifies management and administration of remote access from a single point of entry.\n",
      "* **Enhanced Security:** Enforces security policies, authenticates users, and blocks unauthorized access.\n",
      "* **Compliance:** Meets industry regulations and standards for data protection and network security.\n",
      "* **Improved Productivity:** Allows remote users to work efficiently and securely from anywhere.\n",
      "\n",
      "**Applications of RAG:**\n",
      "\n",
      "* Remote employee access\n",
      "* Business partners and vendors accessing internal systems\n",
      "* Cloud computing access\n",
      "* Secure access to sensitive data and applications\n",
      "\n",
      "\n",
      "here is output from token_count\n",
      "___________\n",
      "total token count is  310\n",
      "\n",
      "\n"
     ]
    }
   ],
   "source": [
    "input = \"What is RAG explain it.\"\n",
    "for output in app3.stream(input):\n",
    "    for key,value in output.items():\n",
    "        print(f\"here is output from {key}\")\n",
    "        print(\"___________\")\n",
    "        print(value)\n",
    "        print(\"\\n\")"
   ]
  },
  {
   "cell_type": "code",
   "execution_count": null,
   "metadata": {},
   "outputs": [],
   "source": []
  }
 ],
 "metadata": {
  "kernelspec": {
   "display_name": "genai_env",
   "language": "python",
   "name": "python3"
  },
  "language_info": {
   "codemirror_mode": {
    "name": "ipython",
    "version": 3
   },
   "file_extension": ".py",
   "mimetype": "text/x-python",
   "name": "python",
   "nbconvert_exporter": "python",
   "pygments_lexer": "ipython3",
   "version": "3.10.9"
  }
 },
 "nbformat": 4,
 "nbformat_minor": 2
}
